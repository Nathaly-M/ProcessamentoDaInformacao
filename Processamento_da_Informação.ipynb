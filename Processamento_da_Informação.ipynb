{
  "nbformat": 4,
  "nbformat_minor": 0,
  "metadata": {
    "colab": {
      "provenance": [],
      "authorship_tag": "ABX9TyNZ1321WSkU0sc4u4Lwrvt2",
      "include_colab_link": true
    },
    "kernelspec": {
      "name": "python3",
      "display_name": "Python 3"
    },
    "language_info": {
      "name": "python"
    }
  },
  "cells": [
    {
      "cell_type": "markdown",
      "metadata": {
        "id": "view-in-github",
        "colab_type": "text"
      },
      "source": [
        "<a href=\"https://colab.research.google.com/github/Nathaly-M/ProcessamentoDaInformacao/blob/main/Processamento_da_Informa%C3%A7%C3%A3o.ipynb\" target=\"_parent\"><img src=\"https://colab.research.google.com/assets/colab-badge.svg\" alt=\"Open In Colab\"/></a>"
      ]
    },
    {
      "cell_type": "markdown",
      "metadata": {
        "id": "d4a1d469"
      },
      "source": [
        "# Instruções\n",
        "\n",
        "- Certifique-se que a configuração está correta (Python 3).\n",
        "\n"
      ]
    },
    {
      "cell_type": "markdown",
      "source": [
        "👾 Crie uma função chamada criptografa_par_impar que é variação da Cifra de Cesar. Nessa versão, você deve aplicar a criptografia para cada palavra. Se o comprimento da palavra for par, você deve deslocar os caracteres em 3 posições. Se o comprimento for impar, você deve deslocar em 5 posições.\n",
        "A célula com o comando assert será usada para testar a implementação."
      ],
      "metadata": {
        "id": "fuiMCuqsc1tR"
      }
    },
    {
      "cell_type": "code",
      "execution_count": null,
      "metadata": {
        "deletable": false,
        "nbgrader": {
          "cell_type": "code",
          "checksum": "4d16d26fcdd1b4ede4316462d6ea3197",
          "grade": false,
          "grade_id": "cell-394723077a381477",
          "locked": false,
          "schema_version": 3,
          "solution": true,
          "task": false
        },
        "id": "ceb9c2b8"
      },
      "outputs": [],
      "source": [
        "def criptografa_par_impar(frase):\n",
        "  lista = frase.split()\n",
        "  lista_criptografada = []\n",
        "  palavra_criptografada = \"\"\n",
        "  for palavra in lista:\n",
        "    if len(palavra) % 2 == 0:\n",
        "      for letra in palavra:\n",
        "        palavra_criptografada += chr(ord(letra)+3)\n",
        "      lista_criptografada.append(palavra_criptografada)\n",
        "      palavra_criptografada = \"\"\n",
        "    else:\n",
        "      for letra in palavra:\n",
        "        palavra_criptografada += chr(ord(letra)+5)\n",
        "      lista_criptografada.append(palavra_criptografada)\n",
        "      palavra_criptografada = \"\"\n",
        "  nova_frase = \" \".join(lista_criptografada)\n",
        "  return nova_frase"
      ]
    },
    {
      "cell_type": "markdown",
      "metadata": {
        "id": "f80cea13"
      },
      "source": [
        "👾 O jogo pedra-papel-tesoura (também chamado de jokenpô) é um jogo de mãos recreativo e simples para duas ou mais pessoas. O jogo é frequentemente empregado como método de seleção (como na escolha de equipes para a prática desportiva, por exemplo).\n",
        "\n",
        "No pedra-papel-tesoura, os jogadores devem simultaneamente esticar a mão, na qual cada um formou um símbolo (que significa pedra, papel ou tesoura). Então, os jogadores comparam os símbolos para decidir quem ganhou, da seguinte forma:\n",
        "\n",
        "- Pedra ganha da tesoura.\n",
        "- Tesoura ganha do papel.\n",
        "- Papel ganha da pedra.\n",
        "\n",
        "A pedra é simbolizada por um punho fechado; a tesoura, por dois dedos esticados; e o papel, pela mão aberta. Caso dois jogadores façam o mesmo gesto, ocorre um empate.\n",
        "\n",
        "Faça uma função chamada `jokenpo` que recebe como entrada a jagada de dois jogadores (representado pelas strings `pedra`, `papel` ou `tesoura`) e retorna 1 se o primeiro jogador ganhou, 2 se o segundo jogador ganhou, e 0 em caso de empate.\n",
        "\n",
        "A célula com o comando assert será usada para testar a implementação."
      ]
    },
    {
      "cell_type": "code",
      "execution_count": null,
      "metadata": {
        "deletable": false,
        "nbgrader": {
          "cell_type": "code",
          "checksum": "345a11571799a0f1a736f0e2135a4746",
          "grade": false,
          "grade_id": "cell-734607cbd5580a68",
          "locked": false,
          "schema_version": 3,
          "solution": true,
          "task": false
        },
        "id": "4b81275d",
        "colab": {
          "base_uri": "https://localhost:8080/"
        },
        "outputId": "3ed4a92d-6caa-4f1d-88ae-faa597cd8125"
      },
      "outputs": [
        {
          "output_type": "stream",
          "name": "stdout",
          "text": [
            "JOKENPÔ!:papel\n",
            "JOKENPÔ!:papel\n",
            "0\n"
          ]
        }
      ],
      "source": [
        "jogador1 = str(input('JOKENPÔ!:'))\n",
        "jogador2 = str(input('JOKENPÔ!:'))\n",
        "\n",
        "def jokenpo(jogador1, jogador2):\n",
        "    if jogador1 == 'pedra' and jogador2 == 'tesoura':\n",
        "      return 1\n",
        "    if jogador1 == 'tesoura' and jogador2 == 'papel':\n",
        "      return 1\n",
        "    if jogador1 == 'papel' and jogador2 == 'pedra':\n",
        "      return 1\n",
        "    if jogador1 == 'papel' and jogador2 == 'tesoura':\n",
        "      return 2\n",
        "    if jogador1 == 'pedra' and jogador2 == 'papel':\n",
        "      return 2\n",
        "    if jogador1 == 'tesoura' and jogador2 == 'pedra':\n",
        "      return 2\n",
        "    if jogador1 == 'tesoura' and jogador2 == 'tesoura':\n",
        "      return 0\n",
        "    if jogador1 == 'pedra' and jogador2 == 'pedra':\n",
        "      return 0\n",
        "    if jogador1 == 'papel' and jogador2 == 'papel':\n",
        "      return 0\n",
        "\n",
        "print(jokenpo(jogador1, jogador2))"
      ]
    },
    {
      "cell_type": "code",
      "execution_count": null,
      "metadata": {
        "deletable": false,
        "editable": false,
        "nbgrader": {
          "cell_type": "code",
          "checksum": "7f4a25bafeefa57c80ac602381544ab3",
          "grade": true,
          "grade_id": "cell-0ec9504abebf942c",
          "locked": true,
          "points": 2,
          "schema_version": 3,
          "solution": false,
          "task": false
        },
        "id": "68d4645b"
      },
      "outputs": [],
      "source": [
        "assert jokenpo('pedra','tesoura')==1\n",
        "assert jokenpo('tesoura','pedra')==2\n",
        "assert jokenpo('tesoura','papel')==1\n",
        "assert jokenpo('papel','tesoura')==2\n",
        "assert jokenpo('papel','pedra')==1\n",
        "assert jokenpo('pedra','papel')==2\n",
        "assert jokenpo('pedra','pedra')==0\n",
        "assert jokenpo('tesoura','tesoura')==0\n",
        "assert jokenpo('papel','papel')==0"
      ]
    },
    {
      "cell_type": "markdown",
      "source": [
        "👾 Podemos representar um ponto  p  no espaço  n -dimensional como uma lista de  n  elmentos numéricos. Dado dois pontos  p  e  q , podemos calcular a distância Euclideana entre eles como\n",
        "\n",
        "![image.png](data:image/png;base64,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)\n",
        "\n",
        "Abaixo temos uma função em Python chamada distancia_euclideana que receba duas listas de números de mesmo tamanho, e calcule a distância Euclideana entre eles.\n",
        "\n",
        "A célula com o comando assert será usada para testar a implementação."
      ],
      "metadata": {
        "id": "JL4V8SGzjl77"
      }
    },
    {
      "cell_type": "code",
      "execution_count": null,
      "metadata": {
        "deletable": false,
        "id": "436eadae",
        "nbgrader": {
          "cell_type": "code",
          "checksum": "cec2570ac39e5ea578e3e553aad27ef4",
          "grade": false,
          "grade_id": "cell-5c71df221f80fda8",
          "locked": false,
          "schema_version": 3,
          "solution": true,
          "task": false
        }
      },
      "outputs": [],
      "source": [
        "import math\n",
        "\n",
        "def distancia_euclideana(p,q):\n",
        "\n",
        "  n = len(p)\n",
        "  soma = 0\n",
        "\n",
        "  for i in range(n):\n",
        "    soma  +=  math.pow(p[i] - q[i], 2)\n",
        "\n",
        "  return math.sqrt(soma)"
      ]
    },
    {
      "cell_type": "code",
      "execution_count": null,
      "metadata": {
        "deletable": false,
        "editable": false,
        "id": "2cbbb09e",
        "nbgrader": {
          "cell_type": "code",
          "checksum": "ef01ee37994cf5cbc54bd87fcf070796",
          "grade": true,
          "grade_id": "cell-6d2ca408d49016eb",
          "locked": true,
          "points": 1,
          "schema_version": 3,
          "solution": false,
          "task": false
        }
      },
      "outputs": [],
      "source": [
        "assert distancia_euclideana([1],[2]) == 1\n",
        "assert distancia_euclideana([1,1],[2,2]) == 1.4142135623730951\n",
        "assert distancia_euclideana([1,1,1],[2,2,2]) == 1.7320508075688772\n",
        "assert distancia_euclideana([1,1,1,1],[2,2,2,2]) == 2"
      ]
    },
    {
      "cell_type": "markdown",
      "source": [
        "👾 Crie uma função chama intercala_lista que receba duas listas  A  e  B  de igual tamanho e cria uma nova lista  C , intercalando os seus elementos. A nova lista  C  criada deve ter duas vezes o tamanho das listas de entrada  A  e  B , e, começando pelo primeiro elemento de  A , intercalar os elmentos de  A  e  B  sucessivamente (primeiro de  A , primeiro de  B , segundo de  A , segundo de  B , ..., último de  A , último de  B ).\n",
        "\n",
        "A célula com o comando assert será usada para testar a implementação."
      ],
      "metadata": {
        "id": "kN-I9ZdckgBC"
      }
    },
    {
      "cell_type": "code",
      "execution_count": null,
      "metadata": {
        "deletable": false,
        "id": "1d67fd75",
        "nbgrader": {
          "cell_type": "code",
          "checksum": "f982f1c8a4d97beca14b14c5e82fb182",
          "grade": false,
          "grade_id": "cell-9a339e9cdd607a85",
          "locked": false,
          "schema_version": 3,
          "solution": true,
          "task": false
        }
      },
      "outputs": [],
      "source": [
        "def intercala_lista(a,b):\n",
        "  A = len(a)\n",
        "  c = []\n",
        "  for i in range(A):\n",
        "    c.append(a[i])\n",
        "    c.append(b[i])\n",
        "  return c"
      ]
    },
    {
      "cell_type": "code",
      "execution_count": null,
      "metadata": {
        "id": "acd47058"
      },
      "outputs": [],
      "source": [
        "def intercala_lista(A, B):\n",
        "\n",
        "  if A == [] and B == []:\n",
        "    return []\n",
        "\n",
        "  for i in range(len(A)):\n",
        "    for j in range(len(B)):\n",
        "      C = A + B\n",
        "      C[::2] = A\n",
        "      C[1::2] = B\n",
        "\n",
        "  return C"
      ]
    },
    {
      "cell_type": "code",
      "execution_count": null,
      "metadata": {
        "deletable": false,
        "editable": false,
        "id": "a83de4aa",
        "nbgrader": {
          "cell_type": "code",
          "checksum": "e606f2dab61afb1caf25afad81d9d72f",
          "grade": true,
          "grade_id": "cell-e5a910b649ad9f80",
          "locked": true,
          "points": 1,
          "schema_version": 3,
          "solution": false,
          "task": false
        }
      },
      "outputs": [],
      "source": [
        "assert intercala_lista([1,3,5],[2,4,6]) == [1,2,3,4,5,6]\n",
        "assert intercala_lista([2,4,6],[1,3,5]) == [2,1,4,3,6,5]\n",
        "assert intercala_lista(['a','c','e'],['b','d','f']) == ['a','b','c','d','e','f']\n",
        "assert intercala_lista([],[]) == []\n",
        "assert intercala_lista([1],[2]) == [1,2]\n",
        "assert intercala_lista([1,2],['a','b']) == [1,'a',2,'b']"
      ]
    },
    {
      "cell_type": "markdown",
      "source": [
        "👾 Faça um Programa para uma loja de tintas. O programa deverá pedir o tamanho em metros quadrados da área a ser pintada. Considere que a cobertura da tinta é de 1 litro para cada 12 metros quadrados e que a tinta é vendida em latas de 18 litros, que custam 80,00 reais ou em galões de 3,6 litros, que custam 25,00 reais.\n",
        "\n",
        "Informe ao usuário as quantidades de tinta a serem compradas e os respectivos preços em 3 situações:\n",
        "\n",
        "- comprar apenas latas de 18 litros;\n",
        "- comprar apenas galões de 3,6 litros;\n",
        "- misturar latas e galões, de forma que o desperdício de tinta seja menor.\n",
        "\n",
        "Acrescente 10% de folga nos três casos (isto é, você deve adicionar 10% sobre o total de litros de tinta necessário) e sempre arredonde os valores para cima, isto é, considere latas cheias."
      ],
      "metadata": {
        "id": "OVojlvCxXYAK"
      }
    },
    {
      "cell_type": "code",
      "execution_count": null,
      "metadata": {
        "deletable": false,
        "nbgrader": {
          "cell_type": "code",
          "checksum": "8f12ca6f898fe140e2eb04c84fc6c8f3",
          "grade": true,
          "grade_id": "Exercicio8",
          "locked": false,
          "points": 2,
          "schema_version": 3,
          "solution": true,
          "task": false
        },
        "id": "54c1e741",
        "colab": {
          "base_uri": "https://localhost:8080/"
        },
        "outputId": "6af3f391-0543-456e-b59e-bee952f384e2"
      },
      "outputs": [
        {
          "output_type": "stream",
          "name": "stdout",
          "text": [
            "Informe o área a ser pintada, em metros quadrados: 200\n",
            "Adquirindo apenas latas de 18 litros, será(ão) necessária(s) 2 lata(s) e custará 160 reais.\n",
            "Adquirindo apenas galões de 3,6 litros será(ão) necessária(s) 6 galão(ões) e custará 150 reais.\n",
            "Adquirindo 1 lata(s) de 18 litros e 1 galão(ões) de 3,6 litros custará 105 reais.\n"
          ]
        }
      ],
      "source": [
        "import math\n",
        "\n",
        "metros_quadrados = float(input(\"Informe o área a ser pintada, em metros quadrados: \"))\n",
        "folga = metros_quadrados * 1.1\n",
        "litros = folga / 12\n",
        "\n",
        "latas1 = math.ceil(litros / 18)\n",
        "valor1 = latas1 * 80\n",
        "print('Adquirindo apenas latas de 18 litros, será(ão) necessária(s)', latas1,'lata(s) e custará', valor1, 'reais.')\n",
        "\n",
        "galoes1 = math.ceil(litros / 3.6)\n",
        "valor2 = galoes1 * 25\n",
        "print('Adquirindo apenas galões de 3,6 litros será(ão) necessária(s)', galoes1,'galão(ões) e custará', valor2, 'reais.')\n",
        "\n",
        "latas2 = math.floor(litros / 18)\n",
        "valor_latas = latas2 * 80\n",
        "resto = litros % 18\n",
        "galoes2 = math.ceil(resto / 3.6)\n",
        "valor_galoes = galoes2 * 25\n",
        "total = valor_latas + valor_galoes\n",
        "print('Adquirindo', latas2, 'lata(s) de 18 litros e', galoes2, 'galão(ões) de 3,6 litros custará', total, 'reais.')"
      ]
    },
    {
      "cell_type": "markdown",
      "source": [
        "👾 Faça um programa que sorte um número inteiro entre zero e dez usando a biblioteca random (veja o método randint). O programa deve então solicitar que o usuário acerte o número, e ficar em um laço solicitando novos números até que o usuário acerte o número.\n"
      ],
      "metadata": {
        "id": "Z5sO70qWgf75"
      }
    },
    {
      "cell_type": "code",
      "execution_count": null,
      "metadata": {
        "deletable": false,
        "nbgrader": {
          "cell_type": "code",
          "checksum": "41ef7b01abeaa8d74e2893a5054fb644",
          "grade": true,
          "grade_id": "Exercicio2",
          "locked": false,
          "points": 1,
          "schema_version": 3,
          "solution": true,
          "task": false
        },
        "id": "48440494",
        "colab": {
          "base_uri": "https://localhost:8080/"
        },
        "outputId": "a3535f1b-513e-411d-8230-f375c9bc1d51"
      },
      "outputs": [
        {
          "output_type": "stream",
          "name": "stdout",
          "text": [
            "8\n",
            "Qual número sorteado? 8\n",
            "Parabéns!\n"
          ]
        }
      ],
      "source": [
        "import random\n",
        "\n",
        "a = random.randint(0, 10)\n",
        "b =  int(input(\"Qual número sorteado? \"))\n",
        "\n",
        "while b != a:\n",
        "  print(\"Poxa, tente novamente.\")\n",
        "  b =  int(input(\"Qual número sorteado? \"))\n",
        "else:\n",
        "  print(\"Parabéns!\")"
      ]
    },
    {
      "cell_type": "markdown",
      "source": [
        "👾 Faça um programa que leia o limite inferior e o superior de um intervalo, e conte quantos números detro deste intervalo são múltiplos, individualmente, de 3, 5, e de 3 e 5 ao mesmo tempo.\n"
      ],
      "metadata": {
        "id": "zcITiTkmhcpg"
      }
    },
    {
      "cell_type": "code",
      "execution_count": null,
      "metadata": {
        "deletable": false,
        "nbgrader": {
          "cell_type": "code",
          "checksum": "59a74d5a343e496638b7b28eaa944fe2",
          "grade": true,
          "grade_id": "Exercicio6",
          "locked": false,
          "points": 2,
          "schema_version": 3,
          "solution": true,
          "task": false
        },
        "colab": {
          "base_uri": "https://localhost:8080/"
        },
        "outputId": "d4c74cf4-06e6-4070-ced5-841f3e50d6c5",
        "id": "eACC_V2bdVYD"
      },
      "outputs": [
        {
          "output_type": "stream",
          "name": "stdout",
          "text": [
            "Digite o limite inferior: 1\n",
            "Digite o limite superior: 25\n",
            "A quantidade de múltiplos de 3 no intervalo mencionado é de: 8\n",
            "A quantidade de múltiplos de 5 no intervalo mencionado é de: 5\n",
            "E por fim, a quantidade de múltiplos tanto de 3 quanto de 5 no intervalo mencionado é de: 1\n"
          ]
        }
      ],
      "source": [
        "x = int(input(\"Digite o limite inferior: \"))\n",
        "y = int(input(\"Digite o limite superior: \")) + 1Faça um programa que leia o limite inferior e o superior de um intervalo, e conte quantos números detro deste intervalo são múltiplos, individualmente, de 3, 5, e de 3 e 5 ao mesmo tempo.\n",
        "m3 = 0\n",
        "m5 = 0\n",
        "m35 = 0\n",
        "\n",
        "for i in range(x, y):\n",
        "  if i % 3 == 0:\n",
        "    m3 = m3 + 1\n",
        "  if i % 5 == 0:\n",
        "    m5 = m5 + 1\n",
        "  if i % 3 == 0 and i % 5 == 0:\n",
        "    m35 = m35 + 1\n",
        "\n",
        "print(\"A quantidade de múltiplos de 3 no intervalo mencionado é de:\", m3)\n",
        "print(\"A quantidade de múltiplos de 5 no intervalo mencionado é de:\", m5)\n",
        "print(\"E por fim, a quantidade de múltiplos tanto de 3 quanto de 5 no intervalo mencionado é de:\", m35)"
      ]
    },
    {
      "cell_type": "markdown",
      "source": [
        "👾 Faça uma função chamada reverte_palavras que receba como entrada uma frase por meio de uma variável string e retorna uma nova frase com o reverso de cada palavra (cada palavra de trás pra frente). Considere que a frase não contém qualquer pontuação, somente palavras."
      ],
      "metadata": {
        "id": "idmLgvo3qBuj"
      }
    },
    {
      "cell_type": "code",
      "execution_count": null,
      "metadata": {
        "deletable": false,
        "nbgrader": {
          "cell_type": "code",
          "checksum": "86e6b570b2bafb1a4a5bfa52dbd8c812",
          "grade": false,
          "grade_id": "cell-3ef01da9ccc3bae6",
          "locked": false,
          "schema_version": 3,
          "solution": true,
          "task": false
        },
        "id": "dd2923d0"
      },
      "outputs": [],
      "source": [
        "def reverte_palavras(frase):\n",
        "  lista = frase.split()\n",
        "  nova_lista = []\n",
        "  for palavra in lista:\n",
        "    nova_lista.append(palavra[::-1])\n",
        "    nova_frase = \" \".join(nova_lista)\n",
        "  return nova_frase"
      ]
    },
    {
      "cell_type": "code",
      "execution_count": null,
      "metadata": {
        "deletable": false,
        "editable": false,
        "nbgrader": {
          "cell_type": "code",
          "checksum": "f1c2368a4a0ffe8b31cf0f43ee543441",
          "grade": true,
          "grade_id": "cell-6d8f312b100a34ab",
          "locked": true,
          "points": 2,
          "schema_version": 3,
          "solution": false,
          "task": false
        },
        "id": "0f426cf5"
      },
      "outputs": [],
      "source": [
        "assert reverte_palavras(\"o rato roeu a roupa do rei de roma\")==\"o otar ueor a apuor od ier ed amor\"\n",
        "assert reverte_palavras(\"adias a data da saída\")==\"saida a atad ad adías\"\n",
        "assert reverte_palavras(\"arara rara\")==\"arara arar\""
      ]
    },
    {
      "cell_type": "markdown",
      "source": [
        "👾 Crie uma função em Python chamada conta_par que recebe como entrada uma lista de números inteiros e retorna a quantidade de números pares presentes nesta lista"
      ],
      "metadata": {
        "id": "DFFJNLqql0wB"
      }
    },
    {
      "cell_type": "code",
      "execution_count": null,
      "metadata": {
        "deletable": false,
        "nbgrader": {
          "cell_type": "code",
          "checksum": "386700eb88562f5bb53d2ebc3ce400e9",
          "grade": false,
          "grade_id": "cell-8685753237ef7ba9",
          "locked": false,
          "schema_version": 3,
          "solution": true,
          "task": false
        },
        "id": "f3848455"
      },
      "outputs": [],
      "source": [
        "lista = []\n",
        "\n",
        "def conta_par(lista):\n",
        "  cont = 0\n",
        "  for p in lista:\n",
        "    if p%2 == 0:\n",
        "      cont = cont + 1\n",
        "  return cont"
      ]
    },
    {
      "cell_type": "code",
      "execution_count": null,
      "metadata": {
        "deletable": false,
        "editable": false,
        "nbgrader": {
          "cell_type": "code",
          "checksum": "2a334ca4f80a84851373bd9c77da5b36",
          "grade": true,
          "grade_id": "cell-150d2dcf76530bdd",
          "locked": true,
          "points": 2,
          "schema_version": 3,
          "solution": false,
          "task": false
        },
        "id": "93a6b53d"
      },
      "outputs": [],
      "source": [
        "assert conta_par([]) == 0\n",
        "assert conta_par([2,2,2,2,2]) == 5\n",
        "assert conta_par([1,1,1,1,1]) == 0\n",
        "assert conta_par([1,2,1,2,1,2]) == 3"
      ]
    },
    {
      "cell_type": "markdown",
      "source": [
        "👾 Faça uma função em Python chamada conta_igual que recebe como entrada duas listas a e b de mesmo tamanho e conta quantos elementos dessas duas listas são iguais na mesma posição (ou seja, conta quantos elementos a[i] são iguais a b[i] para todos os elmentos dessas duas listas."
      ],
      "metadata": {
        "id": "kb-MQ0V-mVa9"
      }
    },
    {
      "cell_type": "code",
      "execution_count": null,
      "metadata": {
        "deletable": false,
        "nbgrader": {
          "cell_type": "code",
          "checksum": "91af7f01debdfed2389a953b874d1a0c",
          "grade": false,
          "grade_id": "cell-7b70b4481c6204a6",
          "locked": false,
          "schema_version": 3,
          "solution": true,
          "task": false
        },
        "id": "1b38e33e"
      },
      "outputs": [],
      "source": [
        "lista_a = []\n",
        "lista_b = []\n",
        "\n",
        "def conta_igual(lista_a, lista_b):\n",
        "  cont = 0\n",
        "  for n in range(len(lista_a)):\n",
        "    if lista_a[n] == lista_b[n]:\n",
        "      cont = cont + 1\n",
        "  return cont"
      ]
    },
    {
      "cell_type": "code",
      "execution_count": null,
      "metadata": {
        "deletable": false,
        "editable": false,
        "nbgrader": {
          "cell_type": "code",
          "checksum": "ad2e3d424f664eb949cf5133028f7c7b",
          "grade": true,
          "grade_id": "cell-e526ed51c463d743",
          "locked": true,
          "points": 2,
          "schema_version": 3,
          "solution": false,
          "task": false
        },
        "id": "584ac2a9"
      },
      "outputs": [],
      "source": [
        "assert conta_igual([],[]) == 0\n",
        "assert conta_igual([1,2,3],[3,2,1]) == 1\n",
        "assert conta_igual([1,1,1],[-1,-1,-1]) == 0\n",
        "assert conta_igual([0,0,0],[0,0,0]) == 3\n",
        "assert conta_igual([1],[2]) == 0"
      ]
    },
    {
      "cell_type": "markdown",
      "source": [
        "👾 Crie uma função chamada maior_por_coluna que recebe como entrada uma matriz numérica, e retorna uma lista com o maior elemento de cada coluna."
      ],
      "metadata": {
        "id": "CAW3pzSIr3ES"
      }
    },
    {
      "cell_type": "code",
      "execution_count": null,
      "metadata": {
        "deletable": false,
        "nbgrader": {
          "cell_type": "code",
          "checksum": "05f658cb369f0558604f973b19d883ed",
          "grade": false,
          "grade_id": "cell-6dfadb69f5ddc2c8",
          "locked": false,
          "schema_version": 3,
          "solution": true,
          "task": false
        },
        "id": "ea8fdf35"
      },
      "outputs": [],
      "source": [
        "def maior_por_coluna(m):\n",
        "  maior = [0]*len(m[0])\n",
        "  for linha in range(len(m)):\n",
        "    for coluna in range(len(m[linha])):\n",
        "      if m[linha][coluna] > maior[coluna]:\n",
        "        maior[coluna] = m[linha][coluna]\n",
        "\n",
        "  return maior"
      ]
    },
    {
      "cell_type": "code",
      "execution_count": null,
      "metadata": {
        "deletable": false,
        "editable": false,
        "nbgrader": {
          "cell_type": "code",
          "checksum": "b5fe1697f2e2c6b87fd30a6d07fcf5b5",
          "grade": true,
          "grade_id": "cell-b25095be1d21da5e",
          "locked": true,
          "points": 2,
          "schema_version": 3,
          "solution": false,
          "task": false
        },
        "id": "442cf7f0"
      },
      "outputs": [],
      "source": [
        "A = [[1,2,3],\n",
        "     [4,5,6],\n",
        "     [7,8,9]]\n",
        "\n",
        "B = [[1,0],\n",
        "     [0,1]]\n",
        "\n",
        "C = [[0,1],\n",
        "     [1,0],\n",
        "     [1,1]]\n",
        "\n",
        "D = [[1,1,2],\n",
        "     [2,2,1],\n",
        "     [2,1,3]]\n",
        "\n",
        "\n",
        "assert maior_por_coluna(A)==[7,8,9]\n",
        "assert maior_por_coluna(B)==[1,1]\n",
        "assert maior_por_coluna(C)==[1,1]\n",
        "assert maior_por_coluna(D)==[2,2,3]"
      ]
    },
    {
      "cell_type": "markdown",
      "source": [
        "👾 Crie uma função chamada posicao_do_maior que recebe como entrada uma matriz numérica, e retorna uma lista com a posição ([linha,coluna]) do maior elmento da matriz (caso haja multiplas ocorrências do maior elemento, retornar a posição da primeira ocorrência)."
      ],
      "metadata": {
        "id": "ITkXTphjsGLx"
      }
    },
    {
      "cell_type": "code",
      "execution_count": null,
      "metadata": {
        "deletable": false,
        "nbgrader": {
          "cell_type": "code",
          "checksum": "cb45daacdc34c6966729e3f38c0aa138",
          "grade": false,
          "grade_id": "cell-d2912c10baf5c838",
          "locked": false,
          "schema_version": 3,
          "solution": true,
          "task": false
        },
        "id": "b3922677"
      },
      "outputs": [],
      "source": [
        "def posicao_do_maior(m):\n",
        "  maior = m[0][0]\n",
        "  posicao = [0,0]\n",
        "  for linha in range(len(m)):\n",
        "    for coluna in range (len(m[linha])):\n",
        "      if m[linha][coluna] > maior:\n",
        "        maior = m[linha][coluna]\n",
        "        posicao = [linha,coluna]\n",
        "  return posicao"
      ]
    },
    {
      "cell_type": "code",
      "execution_count": null,
      "metadata": {
        "deletable": false,
        "editable": false,
        "nbgrader": {
          "cell_type": "code",
          "checksum": "885274870f0c7559e288960b149af566",
          "grade": true,
          "grade_id": "cell-a67ffb885d009150",
          "locked": true,
          "points": 2,
          "schema_version": 3,
          "solution": false,
          "task": false
        },
        "id": "7edf9bdd"
      },
      "outputs": [],
      "source": [
        "A = [[1,2,3],\n",
        "     [4,5,6],\n",
        "     [7,8,9]]\n",
        "\n",
        "B = [[1,0],\n",
        "     [0,1]]\n",
        "\n",
        "C = [[0,1],\n",
        "     [1,0],\n",
        "     [1,1]]\n",
        "\n",
        "D = [[1,1,2],\n",
        "     [2,2,1],\n",
        "     [2,1,3]]\n",
        "\n",
        "\n",
        "assert posicao_do_maior(A)==[2,2]\n",
        "assert posicao_do_maior(B)==[0,0]\n",
        "assert posicao_do_maior(C)==[0,1]\n",
        "assert posicao_do_maior(D)==[2,2]"
      ]
    }
  ]
}