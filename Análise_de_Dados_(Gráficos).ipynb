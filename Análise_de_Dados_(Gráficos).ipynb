{
  "nbformat": 4,
  "nbformat_minor": 0,
  "metadata": {
    "colab": {
      "provenance": [],
      "authorship_tag": "ABX9TyNSokGth7SEXjDaX7sb6YZe",
      "include_colab_link": true
    },
    "kernelspec": {
      "name": "python3",
      "display_name": "Python 3"
    }
  },
  "cells": [
    {
      "cell_type": "markdown",
      "metadata": {
        "id": "view-in-github",
        "colab_type": "text"
      },
      "source": [
        "<a href=\"https://colab.research.google.com/github/Nathaly-M/ProcessamentoDaInformacao/blob/main/An%C3%A1lise_de_Dados_(Gr%C3%A1ficos).ipynb\" target=\"_parent\"><img src=\"https://colab.research.google.com/assets/colab-badge.svg\" alt=\"Open In Colab\"/></a>"
      ]
    },
    {
      "cell_type": "markdown",
      "metadata": {
        "id": "d4a1d469"
      },
      "source": [
        "# Instruções\n",
        "\n",
        "- Certifique-se que a configuração está correta (Python 3).\n",
        "\n"
      ]
    },
    {
      "cell_type": "code",
      "metadata": {
        "id": "VjiFSs6HDRUc",
        "outputId": "0219f752-0d90-459b-ad4e-03344d9ee753",
        "colab": {
          "base_uri": "https://localhost:8080/",
          "height": 316
        }
      },
      "source": [
        "#👾\n",
        "\n",
        "import pandas as pd\n",
        "import numpy as np\n",
        "import matplotlib.pyplot as plt\n",
        "df = pd.read_csv(\"https://www.dropbox.com/s/78wmve98b0u07iu/fake-classrooms-correl13.csv?dl=1\")\n",
        "x = input()\n",
        "r = df[x].corr(df['Nota Final'])\n",
        "print('%.2f' % r)\n",
        "\n",
        "plt.plot(df[x],df[\"Nota Final\"],'.')\n",
        "(a, b) = np.polyfit(x=df[x], y=df['Nota Final'], deg = 1)\n",
        "x = np.arange(0,30)\n",
        "y = a*x + b\n",
        "plt.plot(x,y,'r')"
      ],
      "execution_count": null,
      "outputs": [
        {
          "output_type": "stream",
          "text": [
            "Faltas\n",
            "-0.93\n"
          ],
          "name": "stdout"
        },
        {
          "output_type": "execute_result",
          "data": {
            "text/plain": [
              "[<matplotlib.lines.Line2D at 0x7fe4c39f1c18>]"
            ]
          },
          "metadata": {
            "tags": []
          },
          "execution_count": 9
        },
        {
          "output_type": "display_data",
          "data": {
            "image/png": "[encoded data removed]",
            "text/plain": [
              "<Figure size 432x288 with 1 Axes>"
            ]
          },
          "metadata": {
            "tags": [],
            "needs_background": "light"
          }
        }
      ]
    },
    {
      "cell_type": "code",
      "metadata": {
        "id": "Nb1dbPKEjj7n",
        "outputId": "c66de171-f2e2-45eb-efce-94fbda7ee8b7",
        "colab": {
          "base_uri": "https://localhost:8080/",
          "height": 451
        }
      },
      "source": [
        "#👾\n",
        "\n",
        "import pandas as pd\n",
        "import numpy as np\n",
        "df = pd.read_csv(\"https://www.dropbox.com/s/d639ba1mx3pi4vl/fake-classrooms20.csv?dl=1\")\n",
        "x = input()\n",
        "r = df[x].value_counts()\n",
        "print(r)\n",
        "df.hist(column = x)"
      ],
      "execution_count": null,
      "outputs": [
        {
          "output_type": "stream",
          "text": [
            "Prova 1\n",
            "1    11\n",
            "2    10\n",
            "5     3\n",
            "3     3\n",
            "4     2\n",
            "0     1\n",
            "Name: Prova 1, dtype: int64\n"
          ],
          "name": "stdout"
        },
        {
          "output_type": "execute_result",
          "data": {
            "text/plain": [
              "array([[<matplotlib.axes._subplots.AxesSubplot object at 0x7f34df5e8cc0>]],\n",
              "      dtype=object)"
            ]
          },
          "metadata": {
            "tags": []
          },
          "execution_count": 5
        },
        {
          "output_type": "display_data",
          "data": {
            "image/png": "[encoded data removed]",
            "text/plain": [
              "<Figure size 432x288 with 1 Axes>"
            ]
          },
          "metadata": {
            "tags": [],
            "needs_background": "light"
          }
        }
      ]
    },
    {
      "cell_type": "code",
      "metadata": {
        "id": "kPkmBeEO-NdI",
        "outputId": "5e930695-db3f-4a70-8eb1-a6ae8de8ad6e",
        "colab": {
          "base_uri": "https://localhost:8080/",
          "height": 265
        }
      },
      "source": [
        "#👾\n",
        "\n",
        "import numpy as np\n",
        "import matplotlib.pyplot as plt\n",
        "from sympy import symbols, nroots\n",
        "x = np.arange(-91, 91, 0.01)\n",
        "a = -5\n",
        "b = -6\n",
        "c = 19\n",
        "d = 8\n",
        "y = a*x**3 + b*x**2 + c*x + d\n",
        "plt.plot(x, y,linewidth=1.5, color=\"purple\")\n",
        "ax = plt.gca()\n",
        "ax.spines['right'].set_color('none')\n",
        "ax.spines['top'].set_color('none')\n",
        "ax.spines['bottom'].set_position(('data',0))\n",
        "ax.spines['left'].set_position(('data',0))\n",
        "ax.set_ylim(-300, 300)\n",
        "ax.set_xlim(-5, 4)\n",
        "plt.xticks(np.linspace(-4, 3, 8))\n",
        "plt.yticks(np.linspace(-200, 200, 5))\n",
        "x = symbols('x')\n",
        "y = a*x**3 + b*x**2 + c*x + d\n",
        "raizes = nroots(y)\n",
        "maior = np.max(raizes)\n",
        "print('%.2f dias' % maior)\n"
      ],
      "execution_count": null,
      "outputs": [
        {
          "output_type": "stream",
          "text": [
            "1.66 dias\n"
          ],
          "name": "stdout"
        },
        {
          "output_type": "display_data",
          "data": {
            "image/png": "[encoded data removed]",
            "text/plain": [
              "<Figure size 432x288 with 1 Axes>"
            ]
          },
          "metadata": {
            "tags": [],
            "needs_background": "light"
          }
        }
      ]
    },
    {
      "cell_type": "code",
      "metadata": {
        "id": "Qvq63Azzn0vs",
        "outputId": "5761f5a0-7ed5-49d0-8a07-83c1c3b50bc6",
        "colab": {
          "base_uri": "https://localhost:8080/",
          "height": 267
        }
      },
      "source": [
        "#👾\n",
        "\n",
        "import numpy as np\n",
        "import matplotlib.pyplot as plt\n",
        "import math\n",
        "x = np.arange(-91, 91, 0.01)\n",
        "a = 1\n",
        "b = -15\n",
        "c = -1\n",
        "y = a*x**2 + b*x + c\n",
        "delta = b**2 - 4*a*c\n",
        "raiz1 = (-b + math.sqrt(delta))/(2*a)\n",
        "raiz2 = (-b - math.sqrt(delta))/(2*a)\n",
        "plt.plot(x, y,linewidth=1.5, color=\"purple\")\n",
        "ax = plt.gca()\n",
        "ax.spines['right'].set_color('none')\n",
        "ax.spines['top'].set_color('none')\n",
        "ax.spines['bottom'].set_position(('data',0))\n",
        "ax.spines['left'].set_position(('data',0))\n",
        "ax.set_ylim(-70, 11)\n",
        "ax.set_xlim(0, 16)\n",
        "plt.xticks(np.linspace(0, 15, 7))\n",
        "plt.yticks(np.linspace(-60, 10, 8))\n",
        "plt.scatter([raiz1, ], [a*raiz1**2 + b*raiz1 + c, ])\n",
        "print('%.2f dias' % raiz1)"
      ],
      "execution_count": null,
      "outputs": [
        {
          "output_type": "stream",
          "text": [
            "15.07 dias\n"
          ],
          "name": "stdout"
        },
        {
          "output_type": "display_data",
          "data": {
            "image/png": "[encoded data removed]",
            "text/plain": [
              "<Figure size 432x288 with 1 Axes>"
            ]
          },
          "metadata": {
            "tags": [],
            "needs_background": "light"
          }
        }
      ]
    }
  ]
}