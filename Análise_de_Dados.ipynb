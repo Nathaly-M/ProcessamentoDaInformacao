{
  "nbformat": 4,
  "nbformat_minor": 0,
  "metadata": {
    "colab": {
      "provenance": [],
      "authorship_tag": "ABX9TyM7Zp0Z0sFE+I6WToF59Mmb",
      "include_colab_link": true
    },
    "kernelspec": {
      "name": "python3",
      "display_name": "Python 3"
    }
  },
  "cells": [
    {
      "cell_type": "markdown",
      "metadata": {
        "id": "view-in-github",
        "colab_type": "text"
      },
      "source": [
        "<a href=\"https://colab.research.google.com/github/Nathaly-M/ProcessamentoDaInformacao/blob/main/An%C3%A1lise_de_Dados.ipynb\" target=\"_parent\"><img src=\"https://colab.research.google.com/assets/colab-badge.svg\" alt=\"Open In Colab\"/></a>"
      ]
    },
    {
      "cell_type": "markdown",
      "metadata": {
        "id": "d4a1d469"
      },
      "source": [
        "# Instruções\n",
        "\n",
        "- Certifique-se que a configuração está correta (Python 3).\n",
        "\n"
      ]
    },
    {
      "cell_type": "code",
      "metadata": {
        "id": "lWaw7Sz1MQw0",
        "outputId": "626cd6c0-54ce-4106-ff2b-747a82dece4c",
        "colab": {
          "base_uri": "https://localhost:8080/"
        }
      },
      "source": [
        "#👾\n",
        "\n",
        "import pandas as pd\n",
        "import matplotlib.pyplot as plt\n",
        "import numpy as np\n",
        "from math import sin, cos, sqrt, atan2, radians\n",
        "df = pd.read_csv(\"https://www.dropbox.com/s/8tq1bxi8acps36p/latitude-longitude-bairros.csv?dl=1\" , sep=\";\")\n",
        "\n",
        "def calcula_distancia_km(df, indice_city1, indice_city2):\n",
        "    lat1, lon1 = df[['latitude','longitude']].loc[indice_city1]\n",
        "    lat2, lon2 = df[['latitude','longitude']].loc[indice_city2]\n",
        "    return lat1, lon1, lat2, lon2\n",
        "\n",
        "def distancia_terra(lat1, lon1, lat2, lon2):\n",
        "    lat1, lon1, lat2, lon2 = [radians(lat1), radians(lon1), radians(lat2), radians(lon2)]\n",
        "    dlon, dlat = [lon2 - lon1, lat2 - lat1]\n",
        "    a = sin(dlat / 2) ** 2 + cos(lat1) * cos(lat2) * sin(dlon / 2) ** 2\n",
        "    d = 6371.0 * 2 * atan2(sqrt(a), sqrt(1 - a)) # 6371.0 = raio aproximado da terra\n",
        "    return d\n",
        "\n",
        "indice_city1 = float(input())\n",
        "indice_city2 = float(input())\n",
        "lat1, lon1, lat2, lon2 = calcula_distancia_km(df, indice_city1, indice_city2)\n",
        "print('%.2f' % distancia_terra(lat1, lon1, lat2, lon2))"
      ],
      "execution_count": null,
      "outputs": [
        {
          "output_type": "stream",
          "text": [
            "18520\n",
            "30214\n",
            "2244.54\n"
          ],
          "name": "stdout"
        }
      ]
    },
    {
      "cell_type": "code",
      "metadata": {
        "id": "ahjFTO1kb6S6",
        "outputId": "c89bad83-525e-4227-ce3e-22c88cca12cb",
        "colab": {
          "base_uri": "https://localhost:8080/"
        }
      },
      "source": [
        "#👾\n",
        "\n",
        "import pandas as pd\n",
        "import matplotlib.pyplot as plt\n",
        "import numpy as np\n",
        "df = pd.read_csv(\"https://www.dropbox.com/s/ng1pa3ch1uq5e4s/fake-classrooms26.csv?dl=1\")\n",
        "\n",
        "def calculaNota(linha):\n",
        "  m = (linha[\"Prova 1\"] + linha[\"Prova 2\"] + linha[\"Trabalho\"]) / 3\n",
        "  return m\n",
        "\n",
        "def c(df, a, b, c, d):\n",
        "  if (10 >= df['Nota'] >= a):\n",
        "    return 'A'\n",
        "  elif a > df['Nota'] >= b:\n",
        "    return 'B'\n",
        "  elif b > df['Nota'] >= c:\n",
        "    return 'C'\n",
        "  elif c > df['Nota'] >= d:\n",
        "    return 'D'\n",
        "  elif d > df['Nota']:\n",
        "    return 'F'\n",
        "\n",
        "def formataConceito(df):\n",
        "  hist = df['Conceito'].value_counts()\n",
        "  resp = ''\n",
        "  if 'A'  in hist.keys(): # verifica se tem algum conceito A\n",
        "    resp += 'A: %d\\n' % hist['A']\n",
        "  if 'B' in hist.keys():\n",
        "    resp += 'B: %d\\n' % hist['B']\n",
        "  if 'C' in hist.keys():\n",
        "    resp += 'C: %d\\n' % hist['C']\n",
        "  if 'D' in hist.keys():\n",
        "    resp += 'D: %d\\n' % hist['D']\n",
        "  if 'F' in hist.keys():\n",
        "    resp += 'F: %d\\n' % hist['F']\n",
        "  return str(resp)\n",
        "\n",
        "notaA = float(input())\n",
        "notaB = float(input())\n",
        "notaC = float(input())\n",
        "notaD = float(input())\n",
        "df['Nota'] = df.apply(calculaNota, axis=1)\n",
        "df['Conceito'] = df.apply(c, axis=1, args=[notaA, notaB, notaC, notaD])\n",
        "print(formataConceito(df))"
      ],
      "execution_count": null,
      "outputs": [
        {
          "output_type": "stream",
          "text": [
            "7.9\n",
            "7.1\n",
            "5.9\n",
            "4.6\n",
            "B: 2\n",
            "C: 17\n",
            "D: 10\n",
            "F: 1\n",
            "\n"
          ],
          "name": "stdout"
        }
      ]
    },
    {
      "cell_type": "code",
      "metadata": {
        "id": "OkYdMCrplY0x",
        "outputId": "07a2a875-0dd6-421a-c462-a28eb3ce173c",
        "colab": {
          "base_uri": "https://localhost:8080/",
          "height": 51
        }
      },
      "source": [
        "#👾\n",
        "\n",
        "import pandas as pd\n",
        "import numpy as np\n",
        "df = pd.read_csv(\"https://www.dropbox.com/s/54k7jbnwkb4wgzo/fake-classrooms18.csv?dl=1\")\n",
        "x = input()\n",
        "r = df[x].values.var()\n",
        "print('%.2f' % r)"
      ],
      "execution_count": null,
      "outputs": [
        {
          "output_type": "stream",
          "text": [
            "Prova 1\n",
            "1.74\n"
          ],
          "name": "stdout"
        }
      ]
    },
    {
      "cell_type": "code",
      "metadata": {
        "colab": {
          "base_uri": "https://localhost:8080/"
        },
        "id": "m0rL1YiAKVjQ",
        "outputId": "1cd061a9-e8d9-4fca-c974-fc13d1ae63e2"
      },
      "source": [
        "#👾\n",
        "\n",
        "import pandas as pd\n",
        "import matplotlib.pyplot as plt\n",
        "import numpy as np\n",
        "df = pd.read_csv(\"https://www.dropbox.com/s/6ovye11b21lyrcu/fake-mercado16.csv?dl=1\")\n",
        "x = input()\n",
        "df1 = df[df.Categoria == x]\n",
        "df2 = df1[df1.Valor < 3]\n",
        "a = df2.values.tolist()\n",
        "print(\"Item; Valor; Quantidade\")\n",
        "\n",
        "for lista in a:\n",
        "  print(lista[1], \";\", lista[2], \";\", lista[3])"
      ],
      "execution_count": 2,
      "outputs": [
        {
          "output_type": "stream",
          "name": "stdout",
          "text": [
            "Limpeza\n",
            "Item; Valor; Quantidade\n",
            "Sabao em po ; 1.98 ; 7\n",
            "Limpa vidros ; 1.65 ; 8\n",
            "Alcool ; 2.04 ; 5\n"
          ]
        }
      ]
    },
    {
      "cell_type": "code",
      "metadata": {
        "id": "zBEbM9WYQvn2",
        "colab": {
          "base_uri": "https://localhost:8080/"
        },
        "outputId": "e65d1ecc-6b45-40ee-93a1-4cab9134130e"
      },
      "source": [
        "#👾\n",
        "\n",
        "import pandas as pd\n",
        "import matplotlib.pyplot as plt\n",
        "import numpy as np\n",
        "df1 = pd.read_csv(\"https://www.dropbox.com/s/6ovye11b21lyrcu/fake-mercado16.csv?dl=1\")\n",
        "df2 = pd.read_csv(\"https://www.dropbox.com/s/3ct29fo86g3vynx/fake-mercado01.csv?dl=1\")\n",
        "df3 = pd.read_csv(\"https://www.dropbox.com/s/da1l9hbe8f0sgy8/fake-mercado19.csv?dl=1\")\n",
        "mercado = [df1, df2, df3]\n",
        "\n",
        "registro = []\n",
        "for x in range(0,7):\n",
        "  a = input()\n",
        "  itens = []\n",
        "  for z in range(0,3):\n",
        "    filtro = mercado[z].query(\"Item == '\"+a+\"'\").values.tolist()\n",
        "    itens.append(filtro)\n",
        "  registro.append(itens)\n",
        "\n",
        "lista = []\n",
        "for itens in registro:\n",
        "  valor = []\n",
        "  for mercado in itens:\n",
        "    for colunas in mercado:\n",
        "      valor.append(colunas[2])\n",
        "  m = min(valor)\n",
        "  for y in range(0,3):\n",
        "    if (valor[y] == m):\n",
        "      n = y + 1            #mercado com menor valor\n",
        "      lista.append([colunas[0], colunas[1], m, n])\n",
        "\n",
        "df_novo = pd.DataFrame(lista, columns=['Categoria', 'Item', 'Menor Valor', 'Mercado'])\n",
        "df_novo.sort_values(by= ['Categoria', 'Item'], inplace=True)\n",
        "print(df_novo.to_string(index=False))"
      ],
      "execution_count": null,
      "outputs": [
        {
          "output_type": "stream",
          "text": [
            "Agua sanitaria\n",
            "Suco caixinha 500ml\n",
            "Buchinha de pia\n",
            "Espinafre\n",
            "Alface\n",
            "Milho de pipoca\n",
            "Leite em po\n",
            "   Categoria                 Item  Menor Valor  Mercado\n",
            " Alimentacao          Leite em po         2.58        3\n",
            " Alimentacao      Milho de pipoca         2.32        3\n",
            "     Bebidas  Suco caixinha 500ml         5.10        3\n",
            "  Hortifruti               Alface         2.43        3\n",
            "  Hortifruti            Espinafre         8.48        3\n",
            "     Limpeza       Agua sanitaria         1.80        3\n",
            "     Limpeza      Buchinha de pia         3.83        3\n"
          ],
          "name": "stdout"
        }
      ]
    },
    {
      "cell_type": "code",
      "metadata": {
        "colab": {
          "base_uri": "https://localhost:8080/"
        },
        "id": "INFbRPYWfRWN",
        "outputId": "add62fd9-88d2-4ffa-84a8-0d0aa1dffd78"
      },
      "source": [
        "#👾\n",
        "\n",
        "import pandas as pd\n",
        "import matplotlib.pyplot as plt\n",
        "import numpy as np\n",
        "df = pd.read_csv(\"https://www.dropbox.com/s/i554mvb8b3ubpcx/fake-mercado20.csv?dl=1\")\n",
        "t = 0\n",
        "lista = []\n",
        "for i in range(0,10):\n",
        "  a = input()\n",
        "  a = df.query(\"Item =='\"+a+\"'\").values.tolist()\n",
        "  lista.append(a)\n",
        "\n",
        "todos = []\n",
        "for itens in lista:\n",
        "  for item in itens:\n",
        "    if item[3] > 2:\n",
        "      subtotal =  item[2] * 2\n",
        "      item[3] = 2\n",
        "    else:\n",
        "      subtotal = item[2] * item[3]\n",
        "    todos.append([item[0], item[1], item[2], item[3], subtotal])\n",
        "\n",
        "df_novo = pd.DataFrame(todos, columns=['Categoria', 'Item', 'Valor', 'Quantidade', 'Subtotal'])\n",
        "df_novo.sort_values(by= ['Categoria', 'Item'], inplace=True)\n",
        "print(df_novo.to_string(index=False))"
      ],
      "execution_count": null,
      "outputs": [
        {
          "output_type": "stream",
          "text": [
            "Chuchu\n",
            "Ervilha\n",
            "Couve\n",
            "   Categoria     Item  Valor  Quantidade  Subtotal\n",
            " Alimentacao  Ervilha   5.24           2     10.48\n",
            "  Hortifruti   Chuchu   6.48           1      6.48\n",
            "  Hortifruti    Couve   3.23           2      6.46\n"
          ],
          "name": "stdout"
        }
      ]
    },
    {
      "cell_type": "code",
      "metadata": {
        "id": "4E0YE-GTcNv5"
      },
      "source": [
        "#👾\n",
        "\n",
        "import pandas as pd\n",
        "import matplotlib.pyplot as plt\n",
        "import numpy as np\n",
        "df = pd.read_csv(\"https://www.dropbox.com/s/tcbxw0s0edp3ghm/fake-mercado14.csv?dl=1\")\n",
        "x = input()\n",
        "df1 = df[df.Categoria == x]\n",
        "df2 = df1[df1.Quantidade == 2]\n",
        "df2[\"Gasto\"] = (df1[\"Valor\"] * 10)\n",
        "a = df2.values.tolist()\n",
        "print(\"Item; Valor; Quantidade; Gasto\")\n",
        "\n",
        "for lista in a:\n",
        "  print(lista[1], \";\", lista[2], \";\", lista[3], \";\", '%.2f' % lista[4])\n",
        "\n",
        "b = df2[\"Gasto\"].sum()\n",
        "print(\"Total gasto para repor os estoques: \" '%.2f' % b)"
      ],
      "execution_count": null,
      "outputs": []
    },
    {
      "cell_type": "code",
      "metadata": {
        "id": "oIwILd-WxdlC",
        "outputId": "a7080894-769f-44d2-8e81-7706b9d1e69d",
        "colab": {
          "base_uri": "https://localhost:8080/",
          "height": 136
        }
      },
      "source": [
        "#👾\n",
        "\n",
        "import pandas as pd\n",
        "import numpy as np\n",
        "import matplotlib.pyplot as plt\n",
        "df = pd.read_csv(\"https://www.dropbox.com/s/cpo4eyqoztwn3nc/fake-classrooms-correl07.csv?dl=1\")\n",
        "coluna = input()\n",
        "df2 = pd.DataFrame([df['Nota Final'], df[coluna]]).transpose()\n",
        "df2_max = df2.max()\n",
        "normalizado = df2/df2_max\n",
        "print(str(normalizado.head()))"
      ],
      "execution_count": null,
      "outputs": [
        {
          "output_type": "stream",
          "text": [
            "Faltas\n",
            "   Nota Final    Faltas\n",
            "0       0.000  0.916667\n",
            "1       0.000  1.000000\n",
            "2       0.750  0.333333\n",
            "3       1.000  0.208333\n",
            "4       0.125  0.583333\n"
          ],
          "name": "stdout"
        }
      ]
    },
    {
      "cell_type": "code",
      "metadata": {
        "id": "Ci1FMVTHbKG6"
      },
      "source": [
        "#👾\n",
        "\n",
        "import pandas as pd\n",
        "import numpy as np\n",
        "import matplotlib.pyplot as plt\n",
        "df = pd.read_csv(\"https://www.dropbox.com/s/i0wm90ln9zarj7k/fake-classrooms-correl11.csv?dl=1\")\n",
        "coluna = input()\n",
        "tab_XY = df[['Nota Final', coluna]]\n",
        "(a, b) = np.polyfit(x=tab_XY[coluna], y=tab_XY['Nota Final'], deg=1)\n",
        "modelo = a*df[coluna]+b\n",
        "n = modelo.rename('Estimativa')\n",
        "df2 = pd.DataFrame([df['Nota Final'], n]).transpose()\n",
        "print(str(df2.head()))"
      ],
      "execution_count": null,
      "outputs": []
    },
    {
      "cell_type": "code",
      "metadata": {
        "colab": {
          "base_uri": "https://localhost:8080/"
        },
        "outputId": "add62fd9-88d2-4ffa-84a8-0d0aa1dffd78",
        "id": "LZlu75x6CYOP"
      },
      "source": [
        "#👾\n",
        "\n",
        "import pandas as pd\n",
        "import matplotlib.pyplot as plt\n",
        "import numpy as np\n",
        "df = pd.read_csv(\"https://www.dropbox.com/s/i554mvb8b3ubpcx/fake-mercado20.csv?dl=1\")\n",
        "t = 0\n",
        "lista = []\n",
        "for i in range(0,10):\n",
        "  a = input()\n",
        "  a = df.query(\"Item =='\"+a+\"'\").values.tolist()\n",
        "  lista.append(a)\n",
        "\n",
        "todos = []\n",
        "for itens in lista:\n",
        "  for item in itens:\n",
        "    if item[3] > 2:\n",
        "      subtotal =  item[2] * 2\n",
        "      item[3] = 2\n",
        "    else:\n",
        "      subtotal = item[2] * item[3]\n",
        "    todos.append([item[0], item[1], item[2], item[3], subtotal])\n",
        "\n",
        "df_novo = pd.DataFrame(todos, columns=['Categoria', 'Item', 'Valor', 'Quantidade', 'Subtotal'])\n",
        "df_novo.sort_values(by= ['Categoria', 'Item'], inplace=True)\n",
        "print(df_novo.to_string(index=False))"
      ],
      "execution_count": null,
      "outputs": [
        {
          "output_type": "stream",
          "text": [
            "Chuchu\n",
            "Ervilha\n",
            "Couve\n",
            "   Categoria     Item  Valor  Quantidade  Subtotal\n",
            " Alimentacao  Ervilha   5.24           2     10.48\n",
            "  Hortifruti   Chuchu   6.48           1      6.48\n",
            "  Hortifruti    Couve   3.23           2      6.46\n"
          ],
          "name": "stdout"
        }
      ]
    },
    {
      "cell_type": "markdown",
      "source": [
        "# 👾 Algumas das tabelas disponiveis para visualização abaixo:"
      ],
      "metadata": {
        "id": "PJxmhk6mBfpK"
      }
    },
    {
      "cell_type": "code",
      "metadata": {
        "id": "4WYJC69nhl5q",
        "outputId": "c71a12ba-5d98-44d3-c8f0-864d8aa48311",
        "colab": {
          "base_uri": "https://localhost:8080/",
          "height": 419
        }
      },
      "source": [
        "import pandas as pd\n",
        "import matplotlib.pyplot as plt\n",
        "import numpy as np\n",
        "from math import sin, cos, sqrt, atan2, radians\n",
        "df = pd.read_csv(\"https://www.dropbox.com/s/8tq1bxi8acps36p/latitude-longitude-bairros.csv?dl=1\" , sep=\";\")\n",
        "df"
      ],
      "execution_count": null,
      "outputs": [
        {
          "output_type": "execute_result",
          "data": {
            "text/html": [
              "<div>\n",
              "<style scoped>\n",
              "    .dataframe tbody tr th:only-of-type {\n",
              "        vertical-align: middle;\n",
              "    }\n",
              "\n",
              "    .dataframe tbody tr th {\n",
              "        vertical-align: top;\n",
              "    }\n",
              "\n",
              "    .dataframe thead th {\n",
              "        text-align: right;\n",
              "    }\n",
              "</style>\n",
              "<table border=\"1\" class=\"dataframe\">\n",
              "  <thead>\n",
              "    <tr style=\"text-align: right;\">\n",
              "      <th></th>\n",
              "      <th>id_municipio</th>\n",
              "      <th>id_bairro</th>\n",
              "      <th>uf</th>\n",
              "      <th>municipio</th>\n",
              "      <th>bairro</th>\n",
              "      <th>longitude</th>\n",
              "      <th>latitude</th>\n",
              "    </tr>\n",
              "  </thead>\n",
              "  <tbody>\n",
              "    <tr>\n",
              "      <th>0</th>\n",
              "      <td>2</td>\n",
              "      <td>42570</td>\n",
              "      <td>AC</td>\n",
              "      <td>Acrelândia</td>\n",
              "      <td>Centro</td>\n",
              "      <td>-67.842841</td>\n",
              "      <td>-9.979536</td>\n",
              "    </tr>\n",
              "    <tr>\n",
              "      <th>1</th>\n",
              "      <td>3</td>\n",
              "      <td>42571</td>\n",
              "      <td>AC</td>\n",
              "      <td>Assis Brasil</td>\n",
              "      <td>Centro</td>\n",
              "      <td>-50.420166</td>\n",
              "      <td>-22.665752</td>\n",
              "    </tr>\n",
              "    <tr>\n",
              "      <th>2</th>\n",
              "      <td>4</td>\n",
              "      <td>42572</td>\n",
              "      <td>AC</td>\n",
              "      <td>Brasiléia</td>\n",
              "      <td>Centro</td>\n",
              "      <td>-67.842841</td>\n",
              "      <td>-9.979536</td>\n",
              "    </tr>\n",
              "    <tr>\n",
              "      <th>3</th>\n",
              "      <td>5</td>\n",
              "      <td>42573</td>\n",
              "      <td>AC</td>\n",
              "      <td>Bujari</td>\n",
              "      <td>Centro</td>\n",
              "      <td>-67.826803</td>\n",
              "      <td>-9.935254</td>\n",
              "    </tr>\n",
              "    <tr>\n",
              "      <th>4</th>\n",
              "      <td>6</td>\n",
              "      <td>42574</td>\n",
              "      <td>AC</td>\n",
              "      <td>Capixaba</td>\n",
              "      <td>Centro</td>\n",
              "      <td>-67.828711</td>\n",
              "      <td>-9.981754</td>\n",
              "    </tr>\n",
              "    <tr>\n",
              "      <th>...</th>\n",
              "      <td>...</td>\n",
              "      <td>...</td>\n",
              "      <td>...</td>\n",
              "      <td>...</td>\n",
              "      <td>...</td>\n",
              "      <td>...</td>\n",
              "      <td>...</td>\n",
              "    </tr>\n",
              "    <tr>\n",
              "      <th>36977</th>\n",
              "      <td>5509</td>\n",
              "      <td>79456</td>\n",
              "      <td>TO</td>\n",
              "      <td>Tocantínia</td>\n",
              "      <td>Setor Central</td>\n",
              "      <td>-48.199348</td>\n",
              "      <td>-7.162354</td>\n",
              "    </tr>\n",
              "    <tr>\n",
              "      <th>36978</th>\n",
              "      <td>5511</td>\n",
              "      <td>79457</td>\n",
              "      <td>TO</td>\n",
              "      <td>Tupirama</td>\n",
              "      <td>Setor Central</td>\n",
              "      <td>-48.188751</td>\n",
              "      <td>-8.972086</td>\n",
              "    </tr>\n",
              "    <tr>\n",
              "      <th>36979</th>\n",
              "      <td>5512</td>\n",
              "      <td>79458</td>\n",
              "      <td>TO</td>\n",
              "      <td>Tupiratins</td>\n",
              "      <td>Setor Central</td>\n",
              "      <td>-48.128170</td>\n",
              "      <td>-8.394286</td>\n",
              "    </tr>\n",
              "    <tr>\n",
              "      <th>36980</th>\n",
              "      <td>5513</td>\n",
              "      <td>79459</td>\n",
              "      <td>TO</td>\n",
              "      <td>Wanderlândia</td>\n",
              "      <td>Setor Central</td>\n",
              "      <td>-47.960563</td>\n",
              "      <td>-6.853138</td>\n",
              "    </tr>\n",
              "    <tr>\n",
              "      <th>36981</th>\n",
              "      <td>5514</td>\n",
              "      <td>79460</td>\n",
              "      <td>TO</td>\n",
              "      <td>Xambioá</td>\n",
              "      <td>Setor Leste</td>\n",
              "      <td>-48.532401</td>\n",
              "      <td>-6.414497</td>\n",
              "    </tr>\n",
              "  </tbody>\n",
              "</table>\n",
              "<p>36982 rows × 7 columns</p>\n",
              "</div>"
            ],
            "text/plain": [
              "       id_municipio  id_bairro  uf  ...         bairro  longitude   latitude\n",
              "0                 2      42570  AC  ...         Centro -67.842841  -9.979536\n",
              "1                 3      42571  AC  ...         Centro -50.420166 -22.665752\n",
              "2                 4      42572  AC  ...         Centro -67.842841  -9.979536\n",
              "3                 5      42573  AC  ...         Centro -67.826803  -9.935254\n",
              "4                 6      42574  AC  ...         Centro -67.828711  -9.981754\n",
              "...             ...        ...  ..  ...            ...        ...        ...\n",
              "36977          5509      79456  TO  ...  Setor Central -48.199348  -7.162354\n",
              "36978          5511      79457  TO  ...  Setor Central -48.188751  -8.972086\n",
              "36979          5512      79458  TO  ...  Setor Central -48.128170  -8.394286\n",
              "36980          5513      79459  TO  ...  Setor Central -47.960563  -6.853138\n",
              "36981          5514      79460  TO  ...    Setor Leste -48.532401  -6.414497\n",
              "\n",
              "[36982 rows x 7 columns]"
            ]
          },
          "metadata": {
            "tags": []
          },
          "execution_count": 35
        }
      ]
    },
    {
      "cell_type": "code",
      "metadata": {
        "id": "jMcoNxDDxvzL",
        "outputId": "31fa8079-ea37-4817-a3f7-7375fe83abb8",
        "colab": {
          "base_uri": "https://localhost:8080/",
          "height": 419
        }
      },
      "source": [
        "import pandas as pd\n",
        "import matplotlib.pyplot as plt\n",
        "import numpy as np\n",
        "df = pd.read_csv(\"https://www.dropbox.com/s/i554mvb8b3ubpcx/fake-mercado20.csv?dl=1\")\n",
        "df"
      ],
      "execution_count": null,
      "outputs": [
        {
          "output_type": "execute_result",
          "data": {
            "text/html": [
              "<div>\n",
              "<style scoped>\n",
              "    .dataframe tbody tr th:only-of-type {\n",
              "        vertical-align: middle;\n",
              "    }\n",
              "\n",
              "    .dataframe tbody tr th {\n",
              "        vertical-align: top;\n",
              "    }\n",
              "\n",
              "    .dataframe thead th {\n",
              "        text-align: right;\n",
              "    }\n",
              "</style>\n",
              "<table border=\"1\" class=\"dataframe\">\n",
              "  <thead>\n",
              "    <tr style=\"text-align: right;\">\n",
              "      <th></th>\n",
              "      <th>Categoria</th>\n",
              "      <th>Item</th>\n",
              "      <th>Valor</th>\n",
              "      <th>Quantidade</th>\n",
              "    </tr>\n",
              "  </thead>\n",
              "  <tbody>\n",
              "    <tr>\n",
              "      <th>0</th>\n",
              "      <td>Limpeza</td>\n",
              "      <td>Sabao em po</td>\n",
              "      <td>6.79</td>\n",
              "      <td>9</td>\n",
              "    </tr>\n",
              "    <tr>\n",
              "      <th>1</th>\n",
              "      <td>Limpeza</td>\n",
              "      <td>Amaciante</td>\n",
              "      <td>2.45</td>\n",
              "      <td>9</td>\n",
              "    </tr>\n",
              "    <tr>\n",
              "      <th>2</th>\n",
              "      <td>Limpeza</td>\n",
              "      <td>Detergente</td>\n",
              "      <td>8.31</td>\n",
              "      <td>4</td>\n",
              "    </tr>\n",
              "    <tr>\n",
              "      <th>3</th>\n",
              "      <td>Limpeza</td>\n",
              "      <td>Agua sanitaria</td>\n",
              "      <td>1.50</td>\n",
              "      <td>9</td>\n",
              "    </tr>\n",
              "    <tr>\n",
              "      <th>4</th>\n",
              "      <td>Limpeza</td>\n",
              "      <td>Esponja de aco</td>\n",
              "      <td>2.03</td>\n",
              "      <td>1</td>\n",
              "    </tr>\n",
              "    <tr>\n",
              "      <th>...</th>\n",
              "      <td>...</td>\n",
              "      <td>...</td>\n",
              "      <td>...</td>\n",
              "      <td>...</td>\n",
              "    </tr>\n",
              "    <tr>\n",
              "      <th>82</th>\n",
              "      <td>Carnes e Frios</td>\n",
              "      <td>Peixe</td>\n",
              "      <td>3.38</td>\n",
              "      <td>9</td>\n",
              "    </tr>\n",
              "    <tr>\n",
              "      <th>83</th>\n",
              "      <td>Carnes e Frios</td>\n",
              "      <td>Frango</td>\n",
              "      <td>8.84</td>\n",
              "      <td>9</td>\n",
              "    </tr>\n",
              "    <tr>\n",
              "      <th>84</th>\n",
              "      <td>Carnes e Frios</td>\n",
              "      <td>Carne vermelha</td>\n",
              "      <td>7.68</td>\n",
              "      <td>2</td>\n",
              "    </tr>\n",
              "    <tr>\n",
              "      <th>85</th>\n",
              "      <td>Carnes e Frios</td>\n",
              "      <td>Carne seca</td>\n",
              "      <td>6.67</td>\n",
              "      <td>9</td>\n",
              "    </tr>\n",
              "    <tr>\n",
              "      <th>86</th>\n",
              "      <td>Carnes e Frios</td>\n",
              "      <td>Salsicha</td>\n",
              "      <td>6.84</td>\n",
              "      <td>6</td>\n",
              "    </tr>\n",
              "  </tbody>\n",
              "</table>\n",
              "<p>87 rows × 4 columns</p>\n",
              "</div>"
            ],
            "text/plain": [
              "         Categoria            Item  Valor  Quantidade\n",
              "0          Limpeza     Sabao em po   6.79           9\n",
              "1          Limpeza       Amaciante   2.45           9\n",
              "2          Limpeza      Detergente   8.31           4\n",
              "3          Limpeza  Agua sanitaria   1.50           9\n",
              "4          Limpeza  Esponja de aco   2.03           1\n",
              "..             ...             ...    ...         ...\n",
              "82  Carnes e Frios           Peixe   3.38           9\n",
              "83  Carnes e Frios          Frango   8.84           9\n",
              "84  Carnes e Frios  Carne vermelha   7.68           2\n",
              "85  Carnes e Frios      Carne seca   6.67           9\n",
              "86  Carnes e Frios        Salsicha   6.84           6\n",
              "\n",
              "[87 rows x 4 columns]"
            ]
          },
          "metadata": {
            "tags": []
          },
          "execution_count": 1
        }
      ]
    }
  ]
}